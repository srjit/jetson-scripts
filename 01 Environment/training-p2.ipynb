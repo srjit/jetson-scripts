{
 "cells": [
  {
   "cell_type": "code",
   "execution_count": 1,
   "id": "a8c723ec-25a4-4605-85cc-664e07795120",
   "metadata": {},
   "outputs": [],
   "source": [
    "import torch\n",
    "import torch.nn as nn\n",
    "import torch.optim as optim\n",
    "import torch.nn.functional as F\n",
    "import torchvision\n",
    "import torchvision.datasets as datasets\n",
    "import torchvision.models as models\n",
    "import torchvision.transforms as transforms\n",
    "\n",
    "from collections import Counter"
   ]
  },
  {
   "cell_type": "code",
   "execution_count": 2,
   "id": "6ea738f1-db7a-4235-abde-7b8f1d10a48b",
   "metadata": {},
   "outputs": [],
   "source": [
    "dataset = datasets.ImageFolder(\n",
    "    'dataset_v2',\n",
    "    transforms.Compose([\n",
    "        transforms.Grayscale(),\n",
    "        transforms.ColorJitter(0.1, 0.1, 0.1, 0.1),\n",
    "        transforms.Resize((224, 224)),\n",
    "        transforms.ToTensor(),\n",
    "        transforms.Normalize([0.5], [0.5])\n",
    "    ])\n",
    ")"
   ]
  },
  {
   "cell_type": "code",
   "execution_count": 3,
   "id": "73c5f5da-7465-410a-94dd-303fce7e0fc9",
   "metadata": {},
   "outputs": [],
   "source": [
    "train_set_size = int(len(dataset) * 0.8)\n",
    "valid_set_size = len(dataset) - train_set_size\n",
    "train_set, valid_set = torch.utils.data.random_split(dataset, [train_set_size, valid_set_size])"
   ]
  },
  {
   "cell_type": "code",
   "execution_count": 4,
   "id": "484b3f43-38b3-4788-805e-8b2d0a076626",
   "metadata": {},
   "outputs": [
    {
     "name": "stdout",
     "output_type": "stream",
     "text": [
      "Train data set: 536\n",
      "Valid data set: 135\n"
     ]
    }
   ],
   "source": [
    "print('Train data set:', len(train_set))\n",
    "print('Valid data set:', len(valid_set))"
   ]
  },
  {
   "cell_type": "code",
   "execution_count": 5,
   "id": "555bac17-a1dc-480e-accf-f7cf989bdf59",
   "metadata": {},
   "outputs": [],
   "source": [
    "train_loader = torch.utils.data.DataLoader(\n",
    "    train_set,\n",
    "    batch_size=8,\n",
    "    shuffle=True,\n",
    "    num_workers=0\n",
    ")\n",
    "\n",
    "test_loader = torch.utils.data.DataLoader(\n",
    "    valid_set,\n",
    "    batch_size=8,\n",
    "    shuffle=True,\n",
    "    num_workers=0\n",
    ")"
   ]
  },
  {
   "cell_type": "code",
   "execution_count": 6,
   "id": "f0d5c970-3a6e-4ce1-a625-7d236df7408d",
   "metadata": {},
   "outputs": [
    {
     "data": {
      "text/plain": [
       "{0: 'forward',\n",
       " 1: 'full-left',\n",
       " 2: 'full-right',\n",
       " 3: 'half-left',\n",
       " 4: 'half-right',\n",
       " 5: 'reverse'}"
      ]
     },
     "execution_count": 6,
     "metadata": {},
     "output_type": "execute_result"
    }
   ],
   "source": [
    "class_indexes = train_loader.dataset.dataset.class_to_idx\n",
    "idx_to_class = {v:k for k,v in class_indexes.items()}\n",
    "idx_to_class"
   ]
  },
  {
   "cell_type": "code",
   "execution_count": 7,
   "id": "787ab4fb-860e-4fe0-a910-259883225c16",
   "metadata": {},
   "outputs": [],
   "source": [
    "# Counting the number of items in validation set\n",
    "valid_set_image_count = Counter([label for _, label in valid_set])\n",
    "valid_set_image_count = {idx_to_class[k]: v for k,v in valid_set_image_count.items()}"
   ]
  },
  {
   "cell_type": "code",
   "execution_count": 8,
   "id": "8c1b5802-fca3-4274-ba3a-c7844c9d421c",
   "metadata": {},
   "outputs": [],
   "source": [
    "# dataiter = iter(train_loader)\n",
    "# images, labels = dataiter.next()\n",
    "# images[0].shape"
   ]
  },
  {
   "cell_type": "code",
   "execution_count": 9,
   "id": "ac01b2b6-a196-49f7-a62b-9374446bf319",
   "metadata": {},
   "outputs": [],
   "source": [
    "classes = 6\n",
    "\n",
    "class Net(nn.Module):\n",
    "    def __init__(self):\n",
    "        super(Net, self).__init__()\n",
    "        self.conv1 = nn.Conv2d(1, 32, kernel_size=3, stride=1, padding=1)\n",
    "        self.conv2 = nn.Conv2d(32, 64, kernel_size=3, stride=1, padding=1)\n",
    "        self.pool = nn.MaxPool2d(kernel_size=2, stride=2)\n",
    "        self.fc1 = nn.Linear(64 * 56 * 56, 128)\n",
    "        self.fc2 = nn.Linear(128, 6)\n",
    "\n",
    "    def forward(self, x):\n",
    "        x = self.pool(nn.functional.relu(self.conv1(x)))\n",
    "        x = self.pool(nn.functional.relu(self.conv2(x)))\n",
    "        x = x.view(-1, 64 * 56 * 56)\n",
    "        x = nn.functional.relu(self.fc1(x))\n",
    "        x = nn.functional.softmax(self.fc2(x), dim=1)\n",
    "        return x\n",
    "\n",
    "    \n",
    "model = Net()\n",
    "\n",
    "device = torch.device('cpu')\n",
    "model = model.to(device)"
   ]
  },
  {
   "cell_type": "code",
   "execution_count": 10,
   "id": "80375fe5-90e0-451d-811f-8f77c7689c6f",
   "metadata": {},
   "outputs": [
    {
     "name": "stdout",
     "output_type": "stream",
     "text": [
      "Wrong Count By Class:  {'forward': 0, 'full-left': 12, 'full-right': 16, 'half-left': 12, 'half-right': 12, 'reverse': 49}\n",
      "Wrong Count By Class(%) {'forward': 0.0, 'full-left': 100.0, 'full-right': 100.0, 'half-left': 100.0, 'half-right': 100.0, 'reverse': 100.0}\n",
      "0: 0.251852\n",
      "Wrong Count By Class:  {'forward': 0, 'full-left': 12, 'full-right': 16, 'half-left': 12, 'half-right': 12, 'reverse': 49}\n",
      "Wrong Count By Class(%) {'forward': 0.0, 'full-left': 100.0, 'full-right': 100.0, 'half-left': 100.0, 'half-right': 100.0, 'reverse': 100.0}\n",
      "1: 0.251852\n",
      "Wrong Count By Class:  {'forward': 22, 'full-left': 12, 'full-right': 16, 'half-left': 12, 'half-right': 12, 'reverse': 1}\n",
      "Wrong Count By Class(%) {'forward': 64.7, 'full-left': 100.0, 'full-right': 100.0, 'half-left': 100.0, 'half-right': 100.0, 'reverse': 2.0}\n",
      "2: 0.444444\n",
      "Wrong Count By Class:  {'forward': 23, 'full-left': 12, 'full-right': 16, 'half-left': 12, 'half-right': 12, 'reverse': 0}\n",
      "Wrong Count By Class(%) {'forward': 67.6, 'full-left': 100.0, 'full-right': 100.0, 'half-left': 100.0, 'half-right': 100.0, 'reverse': 0.0}\n",
      "3: 0.444444\n",
      "Wrong Count By Class:  {'forward': 15, 'full-left': 12, 'full-right': 16, 'half-left': 12, 'half-right': 12, 'reverse': 4}\n",
      "Wrong Count By Class(%) {'forward': 44.1, 'full-left': 100.0, 'full-right': 100.0, 'half-left': 100.0, 'half-right': 100.0, 'reverse': 8.2}\n",
      "4: 0.474074\n",
      "Wrong Count By Class:  {'forward': 13, 'full-left': 12, 'full-right': 16, 'half-left': 12, 'half-right': 12, 'reverse': 6}\n",
      "Wrong Count By Class(%) {'forward': 38.2, 'full-left': 100.0, 'full-right': 100.0, 'half-left': 100.0, 'half-right': 100.0, 'reverse': 12.2}\n",
      "5: 0.474074\n",
      "Wrong Count By Class:  {'forward': 18, 'full-left': 12, 'full-right': 16, 'half-left': 12, 'half-right': 12, 'reverse': 1}\n",
      "Wrong Count By Class(%) {'forward': 52.9, 'full-left': 100.0, 'full-right': 100.0, 'half-left': 100.0, 'half-right': 100.0, 'reverse': 2.0}\n",
      "6: 0.474074\n",
      "Wrong Count By Class:  {'forward': 15, 'full-left': 12, 'full-right': 16, 'half-left': 12, 'half-right': 12, 'reverse': 1}\n",
      "Wrong Count By Class(%) {'forward': 44.1, 'full-left': 100.0, 'full-right': 100.0, 'half-left': 100.0, 'half-right': 100.0, 'reverse': 2.0}\n",
      "7: 0.496296\n",
      "Wrong Count By Class:  {'forward': 19, 'full-left': 12, 'full-right': 16, 'half-left': 12, 'half-right': 12, 'reverse': 0}\n",
      "Wrong Count By Class(%) {'forward': 55.9, 'full-left': 100.0, 'full-right': 100.0, 'half-left': 100.0, 'half-right': 100.0, 'reverse': 0.0}\n",
      "8: 0.474074\n",
      "Wrong Count By Class:  {'forward': 16, 'full-left': 12, 'full-right': 16, 'half-left': 12, 'half-right': 12, 'reverse': 1}\n",
      "Wrong Count By Class(%) {'forward': 47.1, 'full-left': 100.0, 'full-right': 100.0, 'half-left': 100.0, 'half-right': 100.0, 'reverse': 2.0}\n",
      "9: 0.488889\n"
     ]
    }
   ],
   "source": [
    "NUM_EPOCHS = 10\n",
    "BEST_MODEL_PATH = 'best_model_p4.pth'\n",
    "best_accuracy = 0.0\n",
    "rate_learning = 0.01\n",
    "\n",
    "#optimizer = optim.Adam(model.parameters(), lr=rate_learning)\n",
    "optimizer = optim.SGD(model.parameters(), lr=0.001, momentum=0.9)\n",
    "\n",
    "\n",
    "for epoch in range(NUM_EPOCHS):\n",
    "    \n",
    "    for images, labels in iter(train_loader):\n",
    "        \n",
    "        images = images.to(device)\n",
    "        labels = labels.to(device)\n",
    "        optimizer.zero_grad()\n",
    "        outputs = model(images)\n",
    "        loss = F.cross_entropy(outputs, labels)\n",
    "        loss.backward()\n",
    "        optimizer.step()\n",
    "\n",
    "    test_error_count = 0.0\n",
    "    wrong_items_count = {'forward':0, 'full-left':0, 'full-right':0, 'half-left':0, 'half-right':0, 'reverse':0}\n",
    "    for images, labels in iter(test_loader):\n",
    "        images = images.to(device)\n",
    "        labels = labels.to(device)\n",
    "        outputs = model(images)\n",
    "        \n",
    "        predicted = outputs.argmax(1)\n",
    "        mask=(predicted != labels)\n",
    "        wrong_predicted =torch.masked_select(predicted,mask).tolist()\n",
    "        wrong_labels = torch.masked_select(labels,mask).tolist()\n",
    "        \n",
    "        # Decoding the wrong target variables\n",
    "        wrong_labels = [idx_to_class[label] for label in wrong_labels]\n",
    "        \n",
    "        for wrong_label in wrong_labels:\n",
    "            wrong_items_count[wrong_label] = wrong_items_count[wrong_label] + 1\n",
    "        \n",
    "        test_error_count += float(torch.count_nonzero(torch.abs(labels - outputs.argmax(1))))\n",
    "       \n",
    "    print(\"Wrong Count By Class: \", wrong_items_count)\n",
    "    print(\"Wrong Count By Class(%)\", {class_: round(float(missed*100)/valid_set_image_count[class_], 1) for class_, missed in wrong_items_count.items()})\n",
    "    \n",
    "    test_accuracy = 1.0 - float(test_error_count) / float(len(valid_set))\n",
    "    print('%d: %f' % (epoch, test_accuracy))\n",
    "    if test_accuracy > best_accuracy:\n",
    "        torch.save(model.state_dict(), BEST_MODEL_PATH)\n",
    "        best_accuracy = test_accuracy"
   ]
  },
  {
   "cell_type": "code",
   "execution_count": null,
   "id": "eb7d8f12-45ca-46b3-914a-a4588dd1327b",
   "metadata": {},
   "outputs": [],
   "source": [
    "valid_set_image_count"
   ]
  },
  {
   "cell_type": "code",
   "execution_count": null,
   "id": "6068d7d8-1a8f-4873-a918-87feb7f1366b",
   "metadata": {},
   "outputs": [],
   "source": [
    "best_accuracy"
   ]
  },
  {
   "cell_type": "code",
   "execution_count": null,
   "id": "f68efba6-9028-4dcb-b4db-70ae409a4cb4",
   "metadata": {},
   "outputs": [],
   "source": []
  }
 ],
 "metadata": {
  "kernelspec": {
   "display_name": "mllib2-Python3.7",
   "language": "python",
   "name": "mllib2-python3.7"
  },
  "language_info": {
   "codemirror_mode": {
    "name": "ipython",
    "version": 3
   },
   "file_extension": ".py",
   "mimetype": "text/x-python",
   "name": "python",
   "nbconvert_exporter": "python",
   "pygments_lexer": "ipython3",
   "version": "3.7.9"
  }
 },
 "nbformat": 4,
 "nbformat_minor": 5
}
