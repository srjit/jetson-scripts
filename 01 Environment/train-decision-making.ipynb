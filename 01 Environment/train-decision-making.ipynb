{
 "cells": [
  {
   "cell_type": "code",
   "execution_count": 1,
   "id": "a8c723ec-25a4-4605-85cc-664e07795120",
   "metadata": {},
   "outputs": [],
   "source": [
    "import torch\n",
    "import torch.optim as optim\n",
    "import torch.nn.functional as F\n",
    "import torchvision\n",
    "import torchvision.datasets as datasets\n",
    "import torchvision.models as models\n",
    "import torchvision.transforms as transforms"
   ]
  },
  {
   "cell_type": "code",
   "execution_count": 2,
   "id": "6ea738f1-db7a-4235-abde-7b8f1d10a48b",
   "metadata": {},
   "outputs": [],
   "source": [
    "dataset = datasets.ImageFolder(\n",
    "    'dataset',\n",
    "    transforms.Compose([\n",
    "        transforms.ColorJitter(0.1, 0.1, 0.1, 0.1),\n",
    "        transforms.Resize((224, 224)),\n",
    "        transforms.ToTensor(),\n",
    "        transforms.Normalize([0.485, 0.456, 0.406], [0.229, 0.224, 0.225])\n",
    "    ])\n",
    ")"
   ]
  },
  {
   "cell_type": "code",
   "execution_count": 3,
   "id": "73c5f5da-7465-410a-94dd-303fce7e0fc9",
   "metadata": {},
   "outputs": [],
   "source": [
    "train_set_size = int(len(dataset) * 0.8)\n",
    "valid_set_size = len(dataset) - train_set_size\n",
    "train_set, valid_set = torch.utils.data.random_split(dataset, [train_set_size, valid_set_size])\n",
    "\n",
    "#train_dataset, test_dataset = torch.utils.data.random_split(dataset, [len(dataset) - 50, 50])"
   ]
  },
  {
   "cell_type": "code",
   "execution_count": 4,
   "id": "484b3f43-38b3-4788-805e-8b2d0a076626",
   "metadata": {},
   "outputs": [
    {
     "name": "stdout",
     "output_type": "stream",
     "text": [
      "Train data set: 327\n",
      "Valid data set: 82\n"
     ]
    }
   ],
   "source": [
    "# After\n",
    "print('Train data set:', len(train_set))\n",
    "print('Valid data set:', len(valid_set))"
   ]
  },
  {
   "cell_type": "code",
   "execution_count": 5,
   "id": "bbee65d0-01cc-4560-b413-6ee7676e33a8",
   "metadata": {},
   "outputs": [],
   "source": [
    "#train_set.dataset.samples"
   ]
  },
  {
   "cell_type": "code",
   "execution_count": 6,
   "id": "4c18cc80-85a8-4a7d-9e26-aadbd821d6c6",
   "metadata": {},
   "outputs": [],
   "source": [
    "#dir(train_set.dataset)"
   ]
  },
  {
   "cell_type": "code",
   "execution_count": 7,
   "id": "555bac17-a1dc-480e-accf-f7cf989bdf59",
   "metadata": {},
   "outputs": [],
   "source": [
    "train_loader = torch.utils.data.DataLoader(\n",
    "    train_set,\n",
    "    batch_size=8,\n",
    "    shuffle=True,\n",
    "    num_workers=0\n",
    ")\n",
    "\n",
    "test_loader = torch.utils.data.DataLoader(\n",
    "    valid_set,\n",
    "    batch_size=8,\n",
    "    shuffle=True,\n",
    "    num_workers=0\n",
    ")"
   ]
  },
  {
   "cell_type": "code",
   "execution_count": 8,
   "id": "ac01b2b6-a196-49f7-a62b-9374446bf319",
   "metadata": {},
   "outputs": [],
   "source": [
    "classes = 6\n",
    "model = models.alexnet(pretrained=True)\n",
    "model.classifier[6] = torch.nn.Linear(model.classifier[6].in_features, classes)\n",
    "\n",
    "device = torch.device('cpu')\n",
    "model = model.to(device)"
   ]
  },
  {
   "cell_type": "code",
   "execution_count": 9,
   "id": "ce41e001-1ae4-4d57-9923-ec1b40a905dd",
   "metadata": {},
   "outputs": [
    {
     "data": {
      "text/plain": [
       "82"
      ]
     },
     "execution_count": 9,
     "metadata": {},
     "output_type": "execute_result"
    }
   ],
   "source": [
    "len(valid_set)"
   ]
  },
  {
   "cell_type": "code",
   "execution_count": 11,
   "id": "45f42de7-2386-4ea9-9beb-5b9a8aceb09b",
   "metadata": {},
   "outputs": [
    {
     "data": {
      "text/plain": [
       "'best_model.pth'"
      ]
     },
     "execution_count": 11,
     "metadata": {},
     "output_type": "execute_result"
    }
   ],
   "source": [
    "BEST_MODEL_PATH"
   ]
  },
  {
   "cell_type": "code",
   "execution_count": 10,
   "id": "80375fe5-90e0-451d-811f-8f77c7689c6f",
   "metadata": {},
   "outputs": [
    {
     "name": "stdout",
     "output_type": "stream",
     "text": [
      "0: 0.292683\n",
      "1: 0.317073\n",
      "2: 0.378049\n",
      "3: 0.500000\n",
      "4: 0.463415\n",
      "5: 0.463415\n",
      "6: 0.560976\n",
      "7: 0.658537\n",
      "8: 0.609756\n",
      "9: 0.682927\n",
      "10: 0.658537\n",
      "11: 0.560976\n",
      "12: 0.731707\n",
      "13: 0.609756\n",
      "14: 0.670732\n",
      "15: 0.695122\n",
      "16: 0.719512\n",
      "17: 0.695122\n",
      "18: 0.731707\n",
      "19: 0.621951\n",
      "20: 0.743902\n",
      "21: 0.756098\n",
      "22: 0.743902\n",
      "23: 0.621951\n",
      "24: 0.634146\n",
      "25: 0.695122\n",
      "26: 0.792683\n",
      "27: 0.731707\n",
      "28: 0.719512\n",
      "29: 0.719512\n",
      "30: 0.695122\n",
      "31: 0.707317\n",
      "32: 0.634146\n",
      "33: 0.743902\n",
      "34: 0.743902\n",
      "35: 0.768293\n",
      "36: 0.731707\n",
      "37: 0.719512\n",
      "38: 0.731707\n",
      "39: 0.731707\n",
      "40: 0.707317\n",
      "41: 0.743902\n",
      "42: 0.743902\n",
      "43: 0.731707\n",
      "44: 0.792683\n",
      "45: 0.756098\n",
      "46: 0.658537\n",
      "47: 0.707317\n",
      "48: 0.743902\n",
      "49: 0.707317\n",
      "50: 0.743902\n",
      "51: 0.756098\n",
      "52: 0.792683\n",
      "53: 0.695122\n",
      "54: 0.731707\n",
      "55: 0.670732\n",
      "56: 0.731707\n",
      "57: 0.756098\n",
      "58: 0.731707\n",
      "59: 0.719512\n"
     ]
    }
   ],
   "source": [
    "NUM_EPOCHS = 60\n",
    "BEST_MODEL_PATH = 'best_model.pth'\n",
    "best_accuracy = 0.0\n",
    "\n",
    "optimizer = optim.SGD(model.parameters(), lr=0.001, momentum=0.9)\n",
    "\n",
    "for epoch in range(NUM_EPOCHS):\n",
    "    \n",
    "    for images, labels in iter(train_loader):\n",
    "        images = images.to(device)\n",
    "        labels = labels.to(device)\n",
    "        optimizer.zero_grad()\n",
    "        outputs = model(images)\n",
    "        loss = F.cross_entropy(outputs, labels)\n",
    "        loss.backward()\n",
    "        optimizer.step()\n",
    "    \n",
    "    test_error_count = 0.0\n",
    "    for images, labels in iter(test_loader):\n",
    "        images = images.to(device)\n",
    "        labels = labels.to(device)\n",
    "        outputs = model(images)\n",
    "        test_error_count += float(torch.count_nonzero(torch.abs(labels - outputs.argmax(1))))\n",
    "        \n",
    "    test_accuracy = 1.0 - float(test_error_count) / float(len(valid_set))\n",
    "    print('%d: %f' % (epoch, test_accuracy))\n",
    "    if test_accuracy > best_accuracy:\n",
    "        torch.save(model.state_dict(), BEST_MODEL_PATH)\n",
    "        best_accuracy = test_accuracy"
   ]
  },
  {
   "cell_type": "code",
   "execution_count": null,
   "id": "eb7d8f12-45ca-46b3-914a-a4588dd1327b",
   "metadata": {},
   "outputs": [],
   "source": []
  }
 ],
 "metadata": {
  "kernelspec": {
   "display_name": "mllib2-Python3.7",
   "language": "python",
   "name": "mllib2-python3.7"
  },
  "language_info": {
   "codemirror_mode": {
    "name": "ipython",
    "version": 3
   },
   "file_extension": ".py",
   "mimetype": "text/x-python",
   "name": "python",
   "nbconvert_exporter": "python",
   "pygments_lexer": "ipython3",
   "version": "3.7.9"
  }
 },
 "nbformat": 4,
 "nbformat_minor": 5
}
