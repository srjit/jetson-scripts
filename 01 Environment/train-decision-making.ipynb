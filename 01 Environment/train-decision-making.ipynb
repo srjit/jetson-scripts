{
 "cells": [
  {
   "cell_type": "code",
   "execution_count": 1,
   "id": "a8c723ec-25a4-4605-85cc-664e07795120",
   "metadata": {},
   "outputs": [],
   "source": [
    "import torch\n",
    "import torch.optim as optim\n",
    "import torch.nn.functional as F\n",
    "import torchvision\n",
    "import torchvision.datasets as datasets\n",
    "import torchvision.models as models\n",
    "import torchvision.transforms as transforms\n",
    "\n",
    "from collections import Counter"
   ]
  },
  {
   "cell_type": "code",
   "execution_count": 2,
   "id": "6ea738f1-db7a-4235-abde-7b8f1d10a48b",
   "metadata": {},
   "outputs": [],
   "source": [
    "dataset = datasets.ImageFolder(\n",
    "    '../tank_dataset/',\n",
    "    transforms.Compose([\n",
    "        transforms.ColorJitter(0.1, 0.1, 0.1, 0.1),\n",
    "        transforms.Resize((224, 224)),\n",
    "        transforms.ToTensor(),\n",
    "        transforms.Normalize([0.485, 0.456, 0.406], [0.229, 0.224, 0.225])\n",
    "    ])\n",
    ")"
   ]
  },
  {
   "cell_type": "code",
   "execution_count": 3,
   "id": "73c5f5da-7465-410a-94dd-303fce7e0fc9",
   "metadata": {},
   "outputs": [],
   "source": [
    "train_set_size = int(len(dataset) * 0.8)\n",
    "valid_set_size = len(dataset) - train_set_size\n",
    "train_set, valid_set = torch.utils.data.random_split(dataset, [train_set_size, valid_set_size])\n",
    "\n",
    "#train_dataset, test_dataset = torch.utils.data.random_split(dataset, [len(dataset) - 50, 50])"
   ]
  },
  {
   "cell_type": "code",
   "execution_count": 4,
   "id": "484b3f43-38b3-4788-805e-8b2d0a076626",
   "metadata": {},
   "outputs": [
    {
     "name": "stdout",
     "output_type": "stream",
     "text": [
      "Train data set: 403\n",
      "Valid data set: 101\n"
     ]
    }
   ],
   "source": [
    "# After\n",
    "print('Train data set:', len(train_set))\n",
    "print('Valid data set:', len(valid_set))"
   ]
  },
  {
   "cell_type": "code",
   "execution_count": 5,
   "id": "bbee65d0-01cc-4560-b413-6ee7676e33a8",
   "metadata": {},
   "outputs": [],
   "source": [
    "#train_set.dataset.samples"
   ]
  },
  {
   "cell_type": "code",
   "execution_count": 6,
   "id": "4c18cc80-85a8-4a7d-9e26-aadbd821d6c6",
   "metadata": {},
   "outputs": [],
   "source": [
    "#dir(train_set.dataset)"
   ]
  },
  {
   "cell_type": "code",
   "execution_count": 7,
   "id": "555bac17-a1dc-480e-accf-f7cf989bdf59",
   "metadata": {},
   "outputs": [],
   "source": [
    "train_loader = torch.utils.data.DataLoader(\n",
    "    train_set,\n",
    "    batch_size=8,\n",
    "    shuffle=True,\n",
    "    num_workers=0\n",
    ")\n",
    "\n",
    "test_loader = torch.utils.data.DataLoader(\n",
    "    valid_set,\n",
    "    batch_size=8,\n",
    "    shuffle=True,\n",
    "    num_workers=0\n",
    ")"
   ]
  },
  {
   "cell_type": "code",
   "execution_count": 8,
   "id": "41133d99-71e2-4dfb-a6ad-5fe23781a6d9",
   "metadata": {},
   "outputs": [
    {
     "data": {
      "text/plain": [
       "{0: 'forward', 1: 'reverse', 2: 'turn_left', 3: 'turn_right'}"
      ]
     },
     "execution_count": 8,
     "metadata": {},
     "output_type": "execute_result"
    }
   ],
   "source": [
    "class_indexes = train_loader.dataset.dataset.class_to_idx\n",
    "idx_to_class = {v:k for k,v in class_indexes.items()}\n",
    "idx_to_class"
   ]
  },
  {
   "cell_type": "code",
   "execution_count": 9,
   "id": "c5c54721-2746-4299-9708-375b9ecdfc00",
   "metadata": {},
   "outputs": [],
   "source": [
    "# Counting the number of items in validation set\n",
    "valid_set_image_count = Counter([label for _, label in valid_set])\n",
    "valid_set_image_count = {idx_to_class[k]: v for k,v in valid_set_image_count.items()}"
   ]
  },
  {
   "cell_type": "code",
   "execution_count": 10,
   "id": "787ab4fb-860e-4fe0-a910-259883225c16",
   "metadata": {},
   "outputs": [],
   "source": [
    "# Counting the number of items in validation set\n",
    "\n",
    "valid_set_image_count = Counter([label for _, label in valid_set])\n",
    "valid_set_image_count = {idx_to_class[k]: v for k,v in valid_set_image_count.items()}"
   ]
  },
  {
   "cell_type": "code",
   "execution_count": 11,
   "id": "ac01b2b6-a196-49f7-a62b-9374446bf319",
   "metadata": {},
   "outputs": [],
   "source": [
    "classes = 4\n",
    "model = models.alexnet(pretrained=True)\n",
    "model.classifier[6] = torch.nn.Linear(model.classifier[6].in_features, classes)\n",
    "\n",
    "device = torch.device('cpu')\n",
    "model = model.to(device)"
   ]
  },
  {
   "cell_type": "code",
   "execution_count": 12,
   "id": "80375fe5-90e0-451d-811f-8f77c7689c6f",
   "metadata": {},
   "outputs": [
    {
     "name": "stdout",
     "output_type": "stream",
     "text": [
      "Wrong Count By Class:  {'forward': 3, 'turn_left': 12, 'turn_right': 6, 'reverse': 9}\n",
      "Wrong Count By Class(%) {'forward': 6.8, 'turn_left': 100.0, 'turn_right': 100.0, 'reverse': 23.1}\n",
      "0: 0.702970\n",
      "Wrong Count By Class:  {'forward': 15, 'turn_left': 7, 'turn_right': 2, 'reverse': 3}\n",
      "Wrong Count By Class(%) {'forward': 34.1, 'turn_left': 58.3, 'turn_right': 33.3, 'reverse': 7.7}\n",
      "1: 0.732673\n",
      "Wrong Count By Class:  {'forward': 11, 'turn_left': 12, 'turn_right': 1, 'reverse': 8}\n",
      "Wrong Count By Class(%) {'forward': 25.0, 'turn_left': 100.0, 'turn_right': 16.7, 'reverse': 20.5}\n",
      "2: 0.683168\n",
      "Wrong Count By Class:  {'forward': 26, 'turn_left': 7, 'turn_right': 1, 'reverse': 5}\n",
      "Wrong Count By Class(%) {'forward': 59.1, 'turn_left': 58.3, 'turn_right': 16.7, 'reverse': 12.8}\n",
      "3: 0.613861\n",
      "Wrong Count By Class:  {'forward': 10, 'turn_left': 7, 'turn_right': 1, 'reverse': 1}\n",
      "Wrong Count By Class(%) {'forward': 22.7, 'turn_left': 58.3, 'turn_right': 16.7, 'reverse': 2.6}\n",
      "4: 0.811881\n",
      "Wrong Count By Class:  {'forward': 2, 'turn_left': 8, 'turn_right': 2, 'reverse': 6}\n",
      "Wrong Count By Class(%) {'forward': 4.5, 'turn_left': 66.7, 'turn_right': 33.3, 'reverse': 15.4}\n",
      "5: 0.821782\n",
      "Wrong Count By Class:  {'forward': 2, 'turn_left': 8, 'turn_right': 2, 'reverse': 7}\n",
      "Wrong Count By Class(%) {'forward': 4.5, 'turn_left': 66.7, 'turn_right': 33.3, 'reverse': 17.9}\n",
      "6: 0.811881\n",
      "Wrong Count By Class:  {'forward': 3, 'turn_left': 8, 'turn_right': 3, 'reverse': 4}\n",
      "Wrong Count By Class(%) {'forward': 6.8, 'turn_left': 66.7, 'turn_right': 50.0, 'reverse': 10.3}\n",
      "7: 0.821782\n",
      "Wrong Count By Class:  {'forward': 6, 'turn_left': 6, 'turn_right': 3, 'reverse': 1}\n",
      "Wrong Count By Class(%) {'forward': 13.6, 'turn_left': 50.0, 'turn_right': 50.0, 'reverse': 2.6}\n",
      "8: 0.841584\n",
      "Wrong Count By Class:  {'forward': 0, 'turn_left': 10, 'turn_right': 5, 'reverse': 7}\n",
      "Wrong Count By Class(%) {'forward': 0.0, 'turn_left': 83.3, 'turn_right': 83.3, 'reverse': 17.9}\n",
      "9: 0.782178\n",
      "Wrong Count By Class:  {'forward': 1, 'turn_left': 8, 'turn_right': 1, 'reverse': 3}\n",
      "Wrong Count By Class(%) {'forward': 2.3, 'turn_left': 66.7, 'turn_right': 16.7, 'reverse': 7.7}\n",
      "10: 0.871287\n",
      "Wrong Count By Class:  {'forward': 0, 'turn_left': 6, 'turn_right': 0, 'reverse': 5}\n",
      "Wrong Count By Class(%) {'forward': 0.0, 'turn_left': 50.0, 'turn_right': 0.0, 'reverse': 12.8}\n",
      "11: 0.891089\n",
      "Wrong Count By Class:  {'forward': 10, 'turn_left': 3, 'turn_right': 0, 'reverse': 1}\n",
      "Wrong Count By Class(%) {'forward': 22.7, 'turn_left': 25.0, 'turn_right': 0.0, 'reverse': 2.6}\n",
      "12: 0.861386\n",
      "Wrong Count By Class:  {'forward': 6, 'turn_left': 2, 'turn_right': 0, 'reverse': 1}\n",
      "Wrong Count By Class(%) {'forward': 13.6, 'turn_left': 16.7, 'turn_right': 0.0, 'reverse': 2.6}\n",
      "13: 0.910891\n",
      "Wrong Count By Class:  {'forward': 3, 'turn_left': 0, 'turn_right': 0, 'reverse': 1}\n",
      "Wrong Count By Class(%) {'forward': 6.8, 'turn_left': 0.0, 'turn_right': 0.0, 'reverse': 2.6}\n",
      "14: 0.960396\n",
      "Wrong Count By Class:  {'forward': 3, 'turn_left': 1, 'turn_right': 0, 'reverse': 1}\n",
      "Wrong Count By Class(%) {'forward': 6.8, 'turn_left': 8.3, 'turn_right': 0.0, 'reverse': 2.6}\n",
      "15: 0.950495\n",
      "Wrong Count By Class:  {'forward': 3, 'turn_left': 3, 'turn_right': 1, 'reverse': 1}\n",
      "Wrong Count By Class(%) {'forward': 6.8, 'turn_left': 25.0, 'turn_right': 16.7, 'reverse': 2.6}\n",
      "16: 0.920792\n",
      "Wrong Count By Class:  {'forward': 2, 'turn_left': 5, 'turn_right': 1, 'reverse': 2}\n",
      "Wrong Count By Class(%) {'forward': 4.5, 'turn_left': 41.7, 'turn_right': 16.7, 'reverse': 5.1}\n",
      "17: 0.900990\n",
      "Wrong Count By Class:  {'forward': 4, 'turn_left': 1, 'turn_right': 0, 'reverse': 2}\n",
      "Wrong Count By Class(%) {'forward': 9.1, 'turn_left': 8.3, 'turn_right': 0.0, 'reverse': 5.1}\n",
      "18: 0.930693\n",
      "Wrong Count By Class:  {'forward': 5, 'turn_left': 1, 'turn_right': 0, 'reverse': 1}\n",
      "Wrong Count By Class(%) {'forward': 11.4, 'turn_left': 8.3, 'turn_right': 0.0, 'reverse': 2.6}\n",
      "19: 0.930693\n",
      "Wrong Count By Class:  {'forward': 2, 'turn_left': 3, 'turn_right': 0, 'reverse': 1}\n",
      "Wrong Count By Class(%) {'forward': 4.5, 'turn_left': 25.0, 'turn_right': 0.0, 'reverse': 2.6}\n",
      "20: 0.940594\n",
      "Wrong Count By Class:  {'forward': 0, 'turn_left': 3, 'turn_right': 0, 'reverse': 2}\n",
      "Wrong Count By Class(%) {'forward': 0.0, 'turn_left': 25.0, 'turn_right': 0.0, 'reverse': 5.1}\n",
      "21: 0.950495\n",
      "Wrong Count By Class:  {'forward': 3, 'turn_left': 1, 'turn_right': 0, 'reverse': 1}\n",
      "Wrong Count By Class(%) {'forward': 6.8, 'turn_left': 8.3, 'turn_right': 0.0, 'reverse': 2.6}\n",
      "22: 0.950495\n",
      "Wrong Count By Class:  {'forward': 4, 'turn_left': 1, 'turn_right': 0, 'reverse': 2}\n",
      "Wrong Count By Class(%) {'forward': 9.1, 'turn_left': 8.3, 'turn_right': 0.0, 'reverse': 5.1}\n",
      "23: 0.930693\n",
      "Wrong Count By Class:  {'forward': 0, 'turn_left': 6, 'turn_right': 0, 'reverse': 1}\n",
      "Wrong Count By Class(%) {'forward': 0.0, 'turn_left': 50.0, 'turn_right': 0.0, 'reverse': 2.6}\n",
      "24: 0.930693\n",
      "Wrong Count By Class:  {'forward': 5, 'turn_left': 4, 'turn_right': 2, 'reverse': 1}\n",
      "Wrong Count By Class(%) {'forward': 11.4, 'turn_left': 33.3, 'turn_right': 33.3, 'reverse': 2.6}\n",
      "25: 0.881188\n",
      "Wrong Count By Class:  {'forward': 1, 'turn_left': 5, 'turn_right': 0, 'reverse': 2}\n",
      "Wrong Count By Class(%) {'forward': 2.3, 'turn_left': 41.7, 'turn_right': 0.0, 'reverse': 5.1}\n",
      "26: 0.920792\n",
      "Wrong Count By Class:  {'forward': 3, 'turn_left': 1, 'turn_right': 1, 'reverse': 2}\n",
      "Wrong Count By Class(%) {'forward': 6.8, 'turn_left': 8.3, 'turn_right': 16.7, 'reverse': 5.1}\n",
      "27: 0.930693\n",
      "Wrong Count By Class:  {'forward': 1, 'turn_left': 0, 'turn_right': 0, 'reverse': 1}\n",
      "Wrong Count By Class(%) {'forward': 2.3, 'turn_left': 0.0, 'turn_right': 0.0, 'reverse': 2.6}\n",
      "28: 0.980198\n",
      "Wrong Count By Class:  {'forward': 1, 'turn_left': 1, 'turn_right': 0, 'reverse': 3}\n",
      "Wrong Count By Class(%) {'forward': 2.3, 'turn_left': 8.3, 'turn_right': 0.0, 'reverse': 7.7}\n",
      "29: 0.950495\n",
      "Wrong Count By Class:  {'forward': 1, 'turn_left': 1, 'turn_right': 0, 'reverse': 1}\n",
      "Wrong Count By Class(%) {'forward': 2.3, 'turn_left': 8.3, 'turn_right': 0.0, 'reverse': 2.6}\n",
      "30: 0.970297\n",
      "Wrong Count By Class:  {'forward': 1, 'turn_left': 2, 'turn_right': 0, 'reverse': 1}\n",
      "Wrong Count By Class(%) {'forward': 2.3, 'turn_left': 16.7, 'turn_right': 0.0, 'reverse': 2.6}\n",
      "31: 0.960396\n",
      "Wrong Count By Class:  {'forward': 1, 'turn_left': 2, 'turn_right': 0, 'reverse': 2}\n",
      "Wrong Count By Class(%) {'forward': 2.3, 'turn_left': 16.7, 'turn_right': 0.0, 'reverse': 5.1}\n",
      "32: 0.950495\n",
      "Wrong Count By Class:  {'forward': 0, 'turn_left': 3, 'turn_right': 0, 'reverse': 3}\n",
      "Wrong Count By Class(%) {'forward': 0.0, 'turn_left': 25.0, 'turn_right': 0.0, 'reverse': 7.7}\n",
      "33: 0.940594\n",
      "Wrong Count By Class:  {'forward': 1, 'turn_left': 0, 'turn_right': 1, 'reverse': 2}\n",
      "Wrong Count By Class(%) {'forward': 2.3, 'turn_left': 0.0, 'turn_right': 16.7, 'reverse': 5.1}\n",
      "34: 0.960396\n",
      "Wrong Count By Class:  {'forward': 5, 'turn_left': 4, 'turn_right': 1, 'reverse': 4}\n",
      "Wrong Count By Class(%) {'forward': 11.4, 'turn_left': 33.3, 'turn_right': 16.7, 'reverse': 10.3}\n",
      "35: 0.861386\n",
      "Wrong Count By Class:  {'forward': 0, 'turn_left': 3, 'turn_right': 1, 'reverse': 5}\n",
      "Wrong Count By Class(%) {'forward': 0.0, 'turn_left': 25.0, 'turn_right': 16.7, 'reverse': 12.8}\n",
      "36: 0.910891\n",
      "Wrong Count By Class:  {'forward': 1, 'turn_left': 0, 'turn_right': 1, 'reverse': 4}\n",
      "Wrong Count By Class(%) {'forward': 2.3, 'turn_left': 0.0, 'turn_right': 16.7, 'reverse': 10.3}\n",
      "37: 0.940594\n",
      "Wrong Count By Class:  {'forward': 5, 'turn_left': 3, 'turn_right': 0, 'reverse': 3}\n",
      "Wrong Count By Class(%) {'forward': 11.4, 'turn_left': 25.0, 'turn_right': 0.0, 'reverse': 7.7}\n",
      "38: 0.891089\n",
      "Wrong Count By Class:  {'forward': 1, 'turn_left': 0, 'turn_right': 1, 'reverse': 1}\n",
      "Wrong Count By Class(%) {'forward': 2.3, 'turn_left': 0.0, 'turn_right': 16.7, 'reverse': 2.6}\n",
      "39: 0.970297\n",
      "Wrong Count By Class:  {'forward': 0, 'turn_left': 2, 'turn_right': 2, 'reverse': 1}\n",
      "Wrong Count By Class(%) {'forward': 0.0, 'turn_left': 16.7, 'turn_right': 33.3, 'reverse': 2.6}\n",
      "40: 0.950495\n",
      "Wrong Count By Class:  {'forward': 1, 'turn_left': 1, 'turn_right': 0, 'reverse': 3}\n",
      "Wrong Count By Class(%) {'forward': 2.3, 'turn_left': 8.3, 'turn_right': 0.0, 'reverse': 7.7}\n",
      "41: 0.950495\n",
      "Wrong Count By Class:  {'forward': 0, 'turn_left': 2, 'turn_right': 0, 'reverse': 4}\n",
      "Wrong Count By Class(%) {'forward': 0.0, 'turn_left': 16.7, 'turn_right': 0.0, 'reverse': 10.3}\n",
      "42: 0.940594\n",
      "Wrong Count By Class:  {'forward': 1, 'turn_left': 1, 'turn_right': 0, 'reverse': 2}\n",
      "Wrong Count By Class(%) {'forward': 2.3, 'turn_left': 8.3, 'turn_right': 0.0, 'reverse': 5.1}\n",
      "43: 0.960396\n",
      "Wrong Count By Class:  {'forward': 0, 'turn_left': 1, 'turn_right': 0, 'reverse': 2}\n",
      "Wrong Count By Class(%) {'forward': 0.0, 'turn_left': 8.3, 'turn_right': 0.0, 'reverse': 5.1}\n",
      "44: 0.970297\n",
      "Wrong Count By Class:  {'forward': 2, 'turn_left': 2, 'turn_right': 0, 'reverse': 1}\n",
      "Wrong Count By Class(%) {'forward': 4.5, 'turn_left': 16.7, 'turn_right': 0.0, 'reverse': 2.6}\n",
      "45: 0.950495\n",
      "Wrong Count By Class:  {'forward': 0, 'turn_left': 0, 'turn_right': 0, 'reverse': 1}\n",
      "Wrong Count By Class(%) {'forward': 0.0, 'turn_left': 0.0, 'turn_right': 0.0, 'reverse': 2.6}\n",
      "46: 0.990099\n",
      "Wrong Count By Class:  {'forward': 0, 'turn_left': 1, 'turn_right': 0, 'reverse': 1}\n",
      "Wrong Count By Class(%) {'forward': 0.0, 'turn_left': 8.3, 'turn_right': 0.0, 'reverse': 2.6}\n",
      "47: 0.980198\n",
      "Wrong Count By Class:  {'forward': 0, 'turn_left': 6, 'turn_right': 0, 'reverse': 1}\n",
      "Wrong Count By Class(%) {'forward': 0.0, 'turn_left': 50.0, 'turn_right': 0.0, 'reverse': 2.6}\n",
      "48: 0.930693\n",
      "Wrong Count By Class:  {'forward': 0, 'turn_left': 1, 'turn_right': 0, 'reverse': 2}\n",
      "Wrong Count By Class(%) {'forward': 0.0, 'turn_left': 8.3, 'turn_right': 0.0, 'reverse': 5.1}\n",
      "49: 0.970297\n"
     ]
    }
   ],
   "source": [
    "NUM_EPOCHS = 50\n",
    "BEST_MODEL_PATH = 'best_model_tank_v1.pth'\n",
    "best_accuracy = 0.0\n",
    "\n",
    "optimizer = optim.SGD(model.parameters(), lr=0.001, momentum=0.9)\n",
    "\n",
    "for epoch in range(NUM_EPOCHS):\n",
    "    \n",
    "    for images, labels in iter(train_loader):\n",
    "        images = images.to(device)\n",
    "        labels = labels.to(device)\n",
    "        optimizer.zero_grad()\n",
    "        outputs = model(images)\n",
    "        loss = F.cross_entropy(outputs, labels)\n",
    "        loss.backward()\n",
    "        optimizer.step()\n",
    "\n",
    "    test_error_count = 0.0\n",
    "    wrong_items_count = {'forward':0, 'turn_left':0, 'turn_right':0, 'reverse':0}\n",
    "    for images, labels in iter(test_loader):\n",
    "        images = images.to(device)\n",
    "        labels = labels.to(device)\n",
    "        outputs = model(images)\n",
    "        \n",
    "        predicted = outputs.argmax(1)\n",
    "        mask=(predicted != labels)\n",
    "        wrong_predicted =torch.masked_select(predicted,mask).tolist()\n",
    "        wrong_labels = torch.masked_select(labels,mask).tolist()\n",
    "        \n",
    "        # Decoding the wrong target variables\n",
    "        wrong_labels = [idx_to_class[label] for label in wrong_labels]\n",
    "        \n",
    "        for wrong_label in wrong_labels:\n",
    "            wrong_items_count[wrong_label] = wrong_items_count[wrong_label] + 1\n",
    "        \n",
    "        test_error_count += float(torch.count_nonzero(torch.abs(labels - outputs.argmax(1))))\n",
    "       \n",
    "    print(\"Wrong Count By Class: \", wrong_items_count)\n",
    "    print(\"Wrong Count By Class(%)\", {class_: round(float(missed*100)/valid_set_image_count[class_], 1) for class_, missed in wrong_items_count.items()})\n",
    "    \n",
    "    test_accuracy = 1.0 - float(test_error_count) / float(len(valid_set))\n",
    "    print('%d: %f' % (epoch, test_accuracy))\n",
    "    if test_accuracy > best_accuracy:\n",
    "        torch.save(model.state_dict(), BEST_MODEL_PATH)\n",
    "        best_accuracy = test_accuracy"
   ]
  },
  {
   "cell_type": "code",
   "execution_count": 13,
   "id": "eb7d8f12-45ca-46b3-914a-a4588dd1327b",
   "metadata": {},
   "outputs": [
    {
     "data": {
      "text/plain": [
       "{'forward': 44, 'reverse': 39, 'turn_left': 12, 'turn_right': 6}"
      ]
     },
     "execution_count": 13,
     "metadata": {},
     "output_type": "execute_result"
    }
   ],
   "source": [
    "valid_set_image_count"
   ]
  },
  {
   "cell_type": "code",
   "execution_count": 14,
   "id": "6068d7d8-1a8f-4873-a918-87feb7f1366b",
   "metadata": {},
   "outputs": [
    {
     "data": {
      "text/plain": [
       "0.9900990099009901"
      ]
     },
     "execution_count": 14,
     "metadata": {},
     "output_type": "execute_result"
    }
   ],
   "source": [
    "best_accuracy"
   ]
  },
  {
   "cell_type": "code",
   "execution_count": null,
   "id": "f68efba6-9028-4dcb-b4db-70ae409a4cb4",
   "metadata": {},
   "outputs": [],
   "source": []
  }
 ],
 "metadata": {
  "kernelspec": {
   "display_name": "mllib2-Python3.7",
   "language": "python",
   "name": "mllib2-python3.7"
  },
  "language_info": {
   "codemirror_mode": {
    "name": "ipython",
    "version": 3
   },
   "file_extension": ".py",
   "mimetype": "text/x-python",
   "name": "python",
   "nbconvert_exporter": "python",
   "pygments_lexer": "ipython3",
   "version": "3.7.9"
  }
 },
 "nbformat": 4,
 "nbformat_minor": 5
}
