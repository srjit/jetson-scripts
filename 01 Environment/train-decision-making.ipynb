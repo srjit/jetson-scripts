{
 "cells": [
  {
   "cell_type": "code",
   "execution_count": 1,
   "id": "a8c723ec-25a4-4605-85cc-664e07795120",
   "metadata": {},
   "outputs": [],
   "source": [
    "import torch\n",
    "import torch.optim as optim\n",
    "import torch.nn.functional as F\n",
    "import torchvision\n",
    "import torchvision.datasets as datasets\n",
    "import torchvision.models as models\n",
    "import torchvision.transforms as transforms\n",
    "\n",
    "from collections import Counter"
   ]
  },
  {
   "cell_type": "code",
   "execution_count": 2,
   "id": "6ea738f1-db7a-4235-abde-7b8f1d10a48b",
   "metadata": {},
   "outputs": [],
   "source": [
    "dataset = datasets.ImageFolder(\n",
    "    'dataset',\n",
    "    transforms.Compose([\n",
    "        transforms.ColorJitter(0.1, 0.1, 0.1, 0.1),\n",
    "        transforms.Resize((224, 224)),\n",
    "        transforms.ToTensor(),\n",
    "        transforms.Normalize([0.485, 0.456, 0.406], [0.229, 0.224, 0.225])\n",
    "    ])\n",
    ")"
   ]
  },
  {
   "cell_type": "code",
   "execution_count": 3,
   "id": "73c5f5da-7465-410a-94dd-303fce7e0fc9",
   "metadata": {},
   "outputs": [],
   "source": [
    "train_set_size = int(len(dataset) * 0.8)\n",
    "valid_set_size = len(dataset) - train_set_size\n",
    "train_set, valid_set = torch.utils.data.random_split(dataset, [train_set_size, valid_set_size])\n",
    "\n",
    "#train_dataset, test_dataset = torch.utils.data.random_split(dataset, [len(dataset) - 50, 50])"
   ]
  },
  {
   "cell_type": "code",
   "execution_count": 4,
   "id": "484b3f43-38b3-4788-805e-8b2d0a076626",
   "metadata": {},
   "outputs": [
    {
     "name": "stdout",
     "output_type": "stream",
     "text": [
      "Train data set: 327\n",
      "Valid data set: 82\n"
     ]
    }
   ],
   "source": [
    "# After\n",
    "print('Train data set:', len(train_set))\n",
    "print('Valid data set:', len(valid_set))"
   ]
  },
  {
   "cell_type": "code",
   "execution_count": 5,
   "id": "bbee65d0-01cc-4560-b413-6ee7676e33a8",
   "metadata": {},
   "outputs": [],
   "source": [
    "#train_set.dataset.samples"
   ]
  },
  {
   "cell_type": "code",
   "execution_count": 6,
   "id": "4c18cc80-85a8-4a7d-9e26-aadbd821d6c6",
   "metadata": {},
   "outputs": [],
   "source": [
    "#dir(train_set.dataset)"
   ]
  },
  {
   "cell_type": "code",
   "execution_count": 7,
   "id": "555bac17-a1dc-480e-accf-f7cf989bdf59",
   "metadata": {},
   "outputs": [],
   "source": [
    "train_loader = torch.utils.data.DataLoader(\n",
    "    train_set,\n",
    "    batch_size=8,\n",
    "    shuffle=True,\n",
    "    num_workers=0\n",
    ")\n",
    "\n",
    "test_loader = torch.utils.data.DataLoader(\n",
    "    valid_set,\n",
    "    batch_size=8,\n",
    "    shuffle=True,\n",
    "    num_workers=0\n",
    ")"
   ]
  },
  {
   "cell_type": "code",
   "execution_count": 8,
   "id": "f0d5c970-3a6e-4ce1-a625-7d236df7408d",
   "metadata": {},
   "outputs": [
    {
     "data": {
      "text/plain": [
       "{0: 'forward',\n",
       " 1: 'full-left',\n",
       " 2: 'full-right',\n",
       " 3: 'half-left',\n",
       " 4: 'half-right',\n",
       " 5: 'reverse'}"
      ]
     },
     "execution_count": 8,
     "metadata": {},
     "output_type": "execute_result"
    }
   ],
   "source": [
    "class_indexes = train_loader.dataset.dataset.class_to_idx\n",
    "idx_to_class = {v:k for k,v in class_indexes.items()}\n",
    "idx_to_class"
   ]
  },
  {
   "cell_type": "code",
   "execution_count": 9,
   "id": "787ab4fb-860e-4fe0-a910-259883225c16",
   "metadata": {},
   "outputs": [],
   "source": [
    "# Counting the number of items in validation set\n",
    "\n",
    "valid_set_image_count = Counter([label for _, label in valid_set])\n",
    "valid_set_image_count = {idx_to_class[k]: v for k,v in valid_set_image_count.items()}"
   ]
  },
  {
   "cell_type": "code",
   "execution_count": 10,
   "id": "ac01b2b6-a196-49f7-a62b-9374446bf319",
   "metadata": {},
   "outputs": [],
   "source": [
    "classes = 6\n",
    "model = models.alexnet(pretrained=True)\n",
    "model.classifier[6] = torch.nn.Linear(model.classifier[6].in_features, classes)\n",
    "\n",
    "device = torch.device('cpu')\n",
    "model = model.to(device)"
   ]
  },
  {
   "cell_type": "code",
   "execution_count": null,
   "id": "80375fe5-90e0-451d-811f-8f77c7689c6f",
   "metadata": {},
   "outputs": [
    {
     "name": "stdout",
     "output_type": "stream",
     "text": [
      "Wrong Count By Class:  {'forward': 12, 'full-left': 7, 'full-right': 2, 'half-left': 9, 'half-right': 8, 'reverse': 11}\n",
      "Wrong Count By Class(%) {'forward': 38.7, 'full-left': 100.0, 'full-right': 100.0, 'half-left': 90.0, 'half-right': 88.9, 'reverse': 47.8}\n",
      "0: 0.402439\n"
     ]
    }
   ],
   "source": [
    "NUM_EPOCHS = 100\n",
    "BEST_MODEL_PATH = 'best_model.pth'\n",
    "best_accuracy = 0.0\n",
    "\n",
    "optimizer = optim.SGD(model.parameters(), lr=0.001, momentum=0.9)\n",
    "\n",
    "for epoch in range(NUM_EPOCHS):\n",
    "    \n",
    "    for images, labels in iter(train_loader):\n",
    "        images = images.to(device)\n",
    "        labels = labels.to(device)\n",
    "        optimizer.zero_grad()\n",
    "        outputs = model(images)\n",
    "        loss = F.cross_entropy(outputs, labels)\n",
    "        loss.backward()\n",
    "        optimizer.step()\n",
    "\n",
    "    test_error_count = 0.0\n",
    "    wrong_items_count = {'forward':0, 'full-left':0, 'full-right':0, 'half-left':0, 'half-right':0, 'reverse':0}\n",
    "    for images, labels in iter(test_loader):\n",
    "        images = images.to(device)\n",
    "        labels = labels.to(device)\n",
    "        outputs = model(images)\n",
    "        \n",
    "        predicted = outputs.argmax(1)\n",
    "        mask=(predicted != labels)\n",
    "        wrong_predicted =torch.masked_select(predicted,mask).tolist()\n",
    "        wrong_labels = torch.masked_select(labels,mask).tolist()\n",
    "        \n",
    "        # Decoding the wrong target variables\n",
    "        wrong_labels = [idx_to_class[label] for label in wrong_labels]\n",
    "        \n",
    "        for wrong_label in wrong_labels:\n",
    "            wrong_items_count[wrong_label] = wrong_items_count[wrong_label] + 1\n",
    "        \n",
    "        test_error_count += float(torch.count_nonzero(torch.abs(labels - outputs.argmax(1))))\n",
    "       \n",
    "    print(\"Wrong Count By Class: \", wrong_items_count)\n",
    "    print(\"Wrong Count By Class(%)\", {class_: round(float(missed*100)/valid_set_image_count[class_], 1) for class_, missed in wrong_items_count.items()})\n",
    "    \n",
    "    \n",
    "    \n",
    "    test_accuracy = 1.0 - float(test_error_count) / float(len(valid_set))\n",
    "    print('%d: %f' % (epoch, test_accuracy))\n",
    "    if test_accuracy > best_accuracy:\n",
    "        torch.save(model.state_dict(), BEST_MODEL_PATH)\n",
    "        best_accuracy = test_accuracy"
   ]
  },
  {
   "cell_type": "code",
   "execution_count": null,
   "id": "eb7d8f12-45ca-46b3-914a-a4588dd1327b",
   "metadata": {},
   "outputs": [],
   "source": []
  }
 ],
 "metadata": {
  "kernelspec": {
   "display_name": "mllib2-Python3.7",
   "language": "python",
   "name": "mllib2-python3.7"
  },
  "language_info": {
   "codemirror_mode": {
    "name": "ipython",
    "version": 3
   },
   "file_extension": ".py",
   "mimetype": "text/x-python",
   "name": "python",
   "nbconvert_exporter": "python",
   "pygments_lexer": "ipython3",
   "version": "3.7.9"
  }
 },
 "nbformat": 4,
 "nbformat_minor": 5
}
