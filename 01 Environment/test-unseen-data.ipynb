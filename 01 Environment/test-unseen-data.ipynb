{
 "cells": [
  {
   "cell_type": "markdown",
   "id": "da704d7e-0a0e-472b-82f9-ce5502d5dceb",
   "metadata": {},
   "source": [
    "### Load model to test on unseen images"
   ]
  },
  {
   "cell_type": "code",
   "execution_count": 1,
   "id": "6ecd1ad3-e240-4c2e-a737-9fe8fa07dfe8",
   "metadata": {},
   "outputs": [],
   "source": [
    "import torch\n",
    "import torch.nn as nn\n",
    "import torch.optim as optim\n",
    "import torch.nn.functional as F\n",
    "import torchvision\n",
    "import torchvision.datasets as datasets\n",
    "import torchvision.models as models\n",
    "import torchvision.transforms as transforms\n",
    "from torch.autograd import Variable\n",
    "\n",
    "\n",
    "from collections import Counter\n",
    "import os\n",
    "from PIL import Image\n",
    "from IPython.display import display"
   ]
  },
  {
   "cell_type": "code",
   "execution_count": 3,
   "id": "c6e9c2e5-91ee-4337-b073-e221013953bd",
   "metadata": {},
   "outputs": [
    {
     "data": {
      "text/plain": [
       "<All keys matched successfully>"
      ]
     },
     "execution_count": 3,
     "metadata": {},
     "output_type": "execute_result"
    }
   ],
   "source": [
    "# Load\n",
    "PATH = \"best_model_tank_v1.pth\"\n",
    "classes = 4\n",
    "\n",
    "model = models.alexnet(pretrained=True)\n",
    "model.classifier[6] = torch.nn.Linear(model.classifier[6].in_features, classes)\n",
    "\n",
    "#checkpoint = torch.load(PATH)\n",
    "model.load_state_dict(torch.load(PATH))"
   ]
  },
  {
   "cell_type": "code",
   "execution_count": 4,
   "id": "159ce335-d20d-4549-af1c-b588cd9935c4",
   "metadata": {},
   "outputs": [],
   "source": [
    "preprocess = transforms.Compose([\n",
    "        transforms.ColorJitter(0.1, 0.1, 0.1, 0.1),\n",
    "        transforms.Resize((224, 224)),\n",
    "        transforms.ToTensor(),\n",
    "        transforms.Normalize([0.485, 0.456, 0.406], [0.229, 0.224, 0.225])\n",
    "    ])"
   ]
  },
  {
   "cell_type": "code",
   "execution_count": 5,
   "id": "23cca58f-9991-4091-b19c-ee43d43bf5df",
   "metadata": {},
   "outputs": [
    {
     "data": {
      "text/plain": [
       "AlexNet(\n",
       "  (features): Sequential(\n",
       "    (0): Conv2d(3, 64, kernel_size=(11, 11), stride=(4, 4), padding=(2, 2))\n",
       "    (1): ReLU(inplace=True)\n",
       "    (2): MaxPool2d(kernel_size=3, stride=2, padding=0, dilation=1, ceil_mode=False)\n",
       "    (3): Conv2d(64, 192, kernel_size=(5, 5), stride=(1, 1), padding=(2, 2))\n",
       "    (4): ReLU(inplace=True)\n",
       "    (5): MaxPool2d(kernel_size=3, stride=2, padding=0, dilation=1, ceil_mode=False)\n",
       "    (6): Conv2d(192, 384, kernel_size=(3, 3), stride=(1, 1), padding=(1, 1))\n",
       "    (7): ReLU(inplace=True)\n",
       "    (8): Conv2d(384, 256, kernel_size=(3, 3), stride=(1, 1), padding=(1, 1))\n",
       "    (9): ReLU(inplace=True)\n",
       "    (10): Conv2d(256, 256, kernel_size=(3, 3), stride=(1, 1), padding=(1, 1))\n",
       "    (11): ReLU(inplace=True)\n",
       "    (12): MaxPool2d(kernel_size=3, stride=2, padding=0, dilation=1, ceil_mode=False)\n",
       "  )\n",
       "  (avgpool): AdaptiveAvgPool2d(output_size=(6, 6))\n",
       "  (classifier): Sequential(\n",
       "    (0): Dropout(p=0.5, inplace=False)\n",
       "    (1): Linear(in_features=9216, out_features=4096, bias=True)\n",
       "    (2): ReLU(inplace=True)\n",
       "    (3): Dropout(p=0.5, inplace=False)\n",
       "    (4): Linear(in_features=4096, out_features=4096, bias=True)\n",
       "    (5): ReLU(inplace=True)\n",
       "    (6): Linear(in_features=4096, out_features=4, bias=True)\n",
       "  )\n",
       ")"
      ]
     },
     "execution_count": 5,
     "metadata": {},
     "output_type": "execute_result"
    }
   ],
   "source": [
    "model.eval()"
   ]
  },
  {
   "cell_type": "code",
   "execution_count": 6,
   "id": "e6be9a24-9c58-4fe2-906b-8948811ffa5a",
   "metadata": {},
   "outputs": [],
   "source": [
    "device = 'cpu'"
   ]
  },
  {
   "cell_type": "code",
   "execution_count": 7,
   "id": "74fc6d2a-b732-4fd4-b2df-973111081507",
   "metadata": {},
   "outputs": [],
   "source": [
    "def predict_image(image):\n",
    "    image_tensor = preprocess(image).float()\n",
    "    image_tensor = image_tensor.unsqueeze_(0)\n",
    "    input = Variable(image_tensor)\n",
    "    input = input.to(device)\n",
    "    output = model(input)\n",
    "    index = output.data.cpu().numpy().argmax()\n",
    "    return index"
   ]
  },
  {
   "cell_type": "code",
   "execution_count": 8,
   "id": "d7b2f1b0-c4d8-4700-ad00-2c9b753fe8eb",
   "metadata": {},
   "outputs": [],
   "source": [
    "classes_map = {0: 'forward', 1: 'reverse', 2: 'turn_left', 3: 'turn_right'}"
   ]
  },
  {
   "cell_type": "code",
   "execution_count": 9,
   "id": "8737a0ea-663e-4cb1-993e-28a686e23ec2",
   "metadata": {},
   "outputs": [],
   "source": [
    "test_imgs = [os.path.join(\"../test\", x) for x in os.listdir(\"../test\")]"
   ]
  },
  {
   "cell_type": "code",
   "execution_count": 12,
   "id": "805b3bc8-08c8-4ae8-862b-307efb5d5907",
   "metadata": {},
   "outputs": [],
   "source": [
    "#test_imgs.remove(\"../test/.ipynb_checkpoints\")\n",
    "#test_imgs.remove(\"../test/.DS_Store\")"
   ]
  },
  {
   "cell_type": "code",
   "execution_count": 13,
   "id": "30c604e7-b0c1-4c8a-a67c-cd4e252883e6",
   "metadata": {},
   "outputs": [],
   "source": [
    "def predict(f_):\n",
    "    img = Image.open(f_)\n",
    "    return predict_image(img)\n",
    "    \n",
    "    \n",
    "predictions = {x : classes_map[predict(x)] for x in test_imgs}"
   ]
  },
  {
   "cell_type": "code",
   "execution_count": 14,
   "id": "834de1cc-e237-4cb5-ad3c-9ebc834407c9",
   "metadata": {},
   "outputs": [
    {
     "data": {
      "text/plain": [
       "{'../test/Re-RJC6M.jpeg': 'reverse',\n",
       " '../test/Re-7BXHU.jpeg': 'reverse',\n",
       " '../test/L-RJ3IZ.jpeg': 'turn_left',\n",
       " '../test/L-0X0AH.jpeg': 'turn_left',\n",
       " '../test/Re-RHTEL.jpeg': 'reverse',\n",
       " '../test/F-P8LD0.jpeg': 'forward',\n",
       " '../test/Re-ZQ6HD.jpeg': 'reverse',\n",
       " '../test/Re-J9BWV.jpeg': 'reverse',\n",
       " '../test/L-4WW63.jpeg': 'turn_left',\n",
       " '../test/F-OKB2Q.jpeg': 'forward',\n",
       " '../test/L-STD2R.jpeg': 'forward',\n",
       " '../test/F-5FDV9.jpeg': 'forward',\n",
       " '../test/Re-UIR7C.jpeg': 'reverse',\n",
       " '../test/L-3Y700.jpeg': 'turn_left',\n",
       " '../test/F-7I2T9.jpeg': 'forward',\n",
       " '../test/F-L120X.jpeg': 'forward',\n",
       " '../test/L-M22XO.jpeg': 'turn_left',\n",
       " '../test/R-I15AH.jpeg': 'turn_right',\n",
       " '../test/R-HSR41.jpeg': 'turn_right',\n",
       " '../test/F-08D44.jpeg': 'turn_left',\n",
       " '../test/Re-U21NK.jpeg': 'turn_left',\n",
       " '../test/Re-1CZMK.jpeg': 'reverse',\n",
       " '../test/R-MZ4X1.jpeg': 'turn_right',\n",
       " '../test/F-EH1XL.jpeg': 'forward',\n",
       " '../test/F-IKQBM.jpeg': 'forward',\n",
       " '../test/Re-WWS0Y.jpeg': 'reverse',\n",
       " '../test/F-OWZW0.jpeg': 'forward',\n",
       " '../test/Re-R6BT8.jpeg': 'reverse',\n",
       " '../test/L-RDVWT.jpeg': 'turn_left',\n",
       " '../test/F-6DYTJ.jpeg': 'forward',\n",
       " '../test/F-O8JTL.jpeg': 'forward',\n",
       " '../test/F-4IIPG.jpeg': 'forward',\n",
       " '../test/F-P1KVP.jpeg': 'forward',\n",
       " '../test/L-ZGW4U.jpeg': 'turn_left',\n",
       " '../test/F-5LE2H.jpeg': 'forward',\n",
       " '../test/Re-KGI6J.jpeg': 'reverse',\n",
       " '../test/Re-KOAVT.jpeg': 'reverse',\n",
       " '../test/Re-ZKWPL.jpeg': 'reverse',\n",
       " '../test/Re-UOD8M.jpeg': 'reverse',\n",
       " '../test/F-3CYZN.jpeg': 'forward',\n",
       " '../test/L-0UDIG.jpeg': 'turn_left',\n",
       " '../test/L-SV0YR.jpeg': 'turn_left',\n",
       " '../test/Re-Y8LXO.jpeg': 'reverse',\n",
       " '../test/F-2QBQY.jpeg': 'forward',\n",
       " '../test/L-BR0J4.jpeg': 'turn_left',\n",
       " '../test/F-9UIUX.jpeg': 'forward',\n",
       " '../test/F-HGXPC.jpeg': 'forward',\n",
       " '../test/F-8IJFS.jpeg': 'forward',\n",
       " '../test/F-ZGFUH.jpeg': 'forward',\n",
       " '../test/L-FN5KQ.jpeg': 'turn_left',\n",
       " '../test/Re-M7S4R.jpeg': 'reverse',\n",
       " '../test/L-RLE1E.jpeg': 'turn_left',\n",
       " '../test/F-E6JVV.jpeg': 'forward',\n",
       " '../test/L-I299X.jpeg': 'turn_left',\n",
       " '../test/F-ILB5N.jpeg': 'forward',\n",
       " '../test/F-1OQJ6.jpeg': 'forward',\n",
       " '../test/Re-N4TZI.jpeg': 'reverse',\n",
       " '../test/F-1QF5V.jpeg': 'forward',\n",
       " '../test/F-L12W9.jpeg': 'forward',\n",
       " '../test/F-SE0X2.jpeg': 'forward'}"
      ]
     },
     "execution_count": 14,
     "metadata": {},
     "output_type": "execute_result"
    }
   ],
   "source": [
    "predictions"
   ]
  },
  {
   "cell_type": "code",
   "execution_count": null,
   "id": "41f15b8f-9dd6-4a23-b9c5-e5b898e18583",
   "metadata": {},
   "outputs": [],
   "source": []
  }
 ],
 "metadata": {
  "kernelspec": {
   "display_name": "mllib2-Python3.7",
   "language": "python",
   "name": "mllib2-python3.7"
  },
  "language_info": {
   "codemirror_mode": {
    "name": "ipython",
    "version": 3
   },
   "file_extension": ".py",
   "mimetype": "text/x-python",
   "name": "python",
   "nbconvert_exporter": "python",
   "pygments_lexer": "ipython3",
   "version": "3.7.9"
  }
 },
 "nbformat": 4,
 "nbformat_minor": 5
}
