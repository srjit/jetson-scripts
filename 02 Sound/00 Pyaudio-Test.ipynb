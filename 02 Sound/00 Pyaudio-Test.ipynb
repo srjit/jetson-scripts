{
 "cells": [
  {
   "cell_type": "code",
   "execution_count": 1,
   "id": "cdf94e84-0a4b-4078-b77f-230fbcd53a6d",
   "metadata": {},
   "outputs": [],
   "source": [
    "import pyaudio\n",
    "import wave"
   ]
  },
  {
   "cell_type": "code",
   "execution_count": 2,
   "id": "84442266-165d-4a50-9d3f-da0ee0df88b5",
   "metadata": {},
   "outputs": [],
   "source": [
    "p = pyaudio.PyAudio()"
   ]
  },
  {
   "cell_type": "code",
   "execution_count": 3,
   "id": "b4d06a42-9624-49fe-9f6a-37757fb68f3e",
   "metadata": {},
   "outputs": [],
   "source": [
    "info = p.get_host_api_info_by_index(0)\n",
    "numdevices = info.get('deviceCount')"
   ]
  },
  {
   "cell_type": "code",
   "execution_count": 4,
   "id": "3a10c5a6-5d74-4989-ab79-d230bc6e2dc7",
   "metadata": {},
   "outputs": [
    {
     "data": {
      "text/plain": [
       "19"
      ]
     },
     "execution_count": 4,
     "metadata": {},
     "output_type": "execute_result"
    }
   ],
   "source": [
    "numdevices"
   ]
  },
  {
   "cell_type": "code",
   "execution_count": 5,
   "id": "09c78b05-2a0f-43a3-a4f8-ea6c727ff2e0",
   "metadata": {},
   "outputs": [
    {
     "name": "stdout",
     "output_type": "stream",
     "text": [
      "Input Device id  1  -  tegra-snd-t210ref-mobile-rt565x: - (hw:1,0)\n",
      "Input Device id  2  -  tegra-snd-t210ref-mobile-rt565x: - (hw:1,1)\n",
      "Input Device id  3  -  tegra-snd-t210ref-mobile-rt565x: - (hw:1,2)\n",
      "Input Device id  4  -  tegra-snd-t210ref-mobile-rt565x: - (hw:1,3)\n",
      "Input Device id  5  -  tegra-snd-t210ref-mobile-rt565x: - (hw:1,4)\n",
      "Input Device id  6  -  tegra-snd-t210ref-mobile-rt565x: - (hw:1,5)\n",
      "Input Device id  7  -  tegra-snd-t210ref-mobile-rt565x: - (hw:1,6)\n",
      "Input Device id  8  -  tegra-snd-t210ref-mobile-rt565x: - (hw:1,7)\n",
      "Input Device id  9  -  tegra-snd-t210ref-mobile-rt565x: - (hw:1,8)\n",
      "Input Device id  10  -  tegra-snd-t210ref-mobile-rt565x: - (hw:1,9)\n",
      "Input Device id  11  -  USB Composite Device: Audio (hw:2,0)\n",
      "Input Device id  13  -  pulse\n",
      "Input Device id  14  -  music\n",
      "Input Device id  16  -  voice\n",
      "Input Device id  17  -  music_and_voice\n",
      "Input Device id  18  -  default\n"
     ]
    }
   ],
   "source": [
    "for i in range(0, numdevices):\n",
    "    if (p.get_device_info_by_host_api_device_index(0, i).get('maxInputChannels')) > 0:\n",
    "        print(\"Input Device id \", i, \" - \", p.get_device_info_by_host_api_device_index(0, i).get('name'))"
   ]
  },
  {
   "cell_type": "code",
   "execution_count": 6,
   "id": "0ae803e9-33eb-43a8-832b-9883c96c4974",
   "metadata": {},
   "outputs": [
    {
     "name": "stdout",
     "output_type": "stream",
     "text": [
      "Yay!\n"
     ]
    }
   ],
   "source": [
    "devinfo = p.get_device_info_by_index(11)  # Or whatever device you care about.\n",
    "if p.is_format_supported(48000.0,  # Sample rate\n",
    "                         input_device=devinfo['index'],\n",
    "                         input_channels=devinfo['maxInputChannels'],\n",
    "                         input_format=pyaudio.paInt16):\n",
    "    print('Yay!')"
   ]
  },
  {
   "cell_type": "code",
   "execution_count": 7,
   "id": "8a03b148-a4ac-4192-a784-6c53b8d8ea0e",
   "metadata": {},
   "outputs": [
    {
     "name": "stdout",
     "output_type": "stream",
     "text": [
      "32000 Invalid number of channels [PaErrorCode -9998]\n",
      "44100 Invalid number of channels [PaErrorCode -9998]\n",
      "48000 Invalid number of channels [PaErrorCode -9998]\n",
      "96000 Invalid number of channels [PaErrorCode -9998]\n",
      "128000 Invalid number of channels [PaErrorCode -9998]\n",
      "[]\n"
     ]
    }
   ],
   "source": [
    "import sounddevice as sd\n",
    "\n",
    "samplerates = 32000, 44100, 48000, 96000, 128000\n",
    "device = 11\n",
    "\n",
    "supported_samplerates = []\n",
    "for fs in samplerates:\n",
    "    try:\n",
    "        sd.check_output_settings(device=device, samplerate=fs)\n",
    "    except Exception as e:\n",
    "        print(fs, e)\n",
    "    else:\n",
    "        supported_samplerates.append(fs)\n",
    "print(supported_samplerates)"
   ]
  },
  {
   "cell_type": "code",
   "execution_count": 12,
   "id": "e11265ef-81ac-4a56-bf2c-04ee38879f2b",
   "metadata": {},
   "outputs": [
    {
     "name": "stdout",
     "output_type": "stream",
     "text": [
      "* recording\n",
      "* done recording\n"
     ]
    }
   ],
   "source": [
    "CHUNK = 1024\n",
    "FORMAT = pyaudio.paInt16\n",
    "CHANNELS = 1\n",
    "RATE = 48000\n",
    "RECORD_SECONDS = 5\n",
    "WAVE_OUTPUT_FILENAME = \"output.wav\"\n",
    "\n",
    "stream = p.open(format=FORMAT,\n",
    "                channels=CHANNELS,\n",
    "                rate=RATE,\n",
    "                input=True,\n",
    "                input_device_index=11,\n",
    "                frames_per_buffer=CHUNK)\n",
    "\n",
    "print(\"* recording\")\n",
    "\n",
    "frames = []\n",
    "\n",
    "for i in range(0, int(RATE / CHUNK * RECORD_SECONDS)):\n",
    "    data = stream.read(CHUNK, exception_on_overflow = False)\n",
    "    frames.append(data)\n",
    "\n",
    "print(\"* done recording\")\n",
    "\n",
    "stream.stop_stream()\n",
    "stream.close()\n",
    "p.terminate()\n",
    "\n",
    "wf = wave.open(WAVE_OUTPUT_FILENAME, 'wb')\n",
    "wf.setnchannels(CHANNELS)\n",
    "wf.setsampwidth(p.get_sample_size(FORMAT))\n",
    "wf.setframerate(RATE)\n",
    "wf.writeframes(b''.join(frames))\n",
    "wf.close()"
   ]
  },
  {
   "cell_type": "code",
   "execution_count": null,
   "id": "9c32cca4-9cdd-4c7d-aca3-f486deae8425",
   "metadata": {},
   "outputs": [],
   "source": []
  },
  {
   "cell_type": "code",
   "execution_count": null,
   "id": "46df29e7-b713-4822-890d-603742054404",
   "metadata": {},
   "outputs": [],
   "source": []
  }
 ],
 "metadata": {
  "kernelspec": {
   "display_name": "DeepJet",
   "language": "python",
   "name": "deepllib"
  },
  "language_info": {
   "codemirror_mode": {
    "name": "ipython",
    "version": 3
   },
   "file_extension": ".py",
   "mimetype": "text/x-python",
   "name": "python",
   "nbconvert_exporter": "python",
   "pygments_lexer": "ipython3",
   "version": "3.6.9"
  }
 },
 "nbformat": 4,
 "nbformat_minor": 5
}
